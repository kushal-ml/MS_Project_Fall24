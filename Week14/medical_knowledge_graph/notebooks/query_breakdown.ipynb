{
 "cells": [
  {
   "cell_type": "code",
   "execution_count": 1,
   "metadata": {},
   "outputs": [],
   "source": [
    "from langchain_openai import ChatOpenAI\n",
    "from langchain.prompts import PromptTemplate\n",
    "import os\n",
    "from dotenv import load_dotenv"
   ]
  },
  {
   "cell_type": "code",
   "execution_count": 2,
   "metadata": {},
   "outputs": [],
   "source": [
    "# Load environment variables\n",
    "load_dotenv()\n",
    "\n",
    "# Initialize OpenAI client\n",
    "llm = ChatOpenAI(\n",
    "    model=\"gpt-4\",\n",
    "    temperature=0\n",
    ")"
   ]
  },
  {
   "cell_type": "code",
   "execution_count": 3,
   "metadata": {},
   "outputs": [],
   "source": [
    "\n",
    "prompt_template = \"\"\"You are a PICO formatter. I want you to efficiently break down this question in the \n",
    "following format:\n",
    "Patient - Age, Sex, Disease (if the name/names of any disease that the patient has or had is mentioned)\n",
    "Investigation - Results of any tests taken (like temperature, blood pressure etc)\n",
    "Comparison - Answer Options\n",
    "Outcome expected - What is the answer expected from the question?\n",
    "Symptoms - Any symptoms mentioned and how long it has been there\n",
    "Any other additional information - like sexually active, alcoholic, smoker/non-smoker etc\n",
    "\n",
    "Do this breakdown just using the facts mentioned in the question, do not think anything from the \n",
    "perspective of answering the question.\n",
    "\n",
    "Question: {question}\"\"\"\n",
    "\n",
    "prompt = PromptTemplate(\n",
    "    input_variables=[\"question\"],\n",
    "    template=prompt_template\n",
    ")"
   ]
  },
  {
   "cell_type": "code",
   "execution_count": 4,
   "metadata": {},
   "outputs": [],
   "source": [
    "def analyze_medical_question(user_query):\n",
    "    # Create the final prompt\n",
    "    formatted_prompt = prompt.format(question=user_query)\n",
    "    \n",
    "    # Get response from OpenAI\n",
    "    response = llm.invoke(formatted_prompt)\n",
    "    \n",
    "    return response.content"
   ]
  },
  {
   "cell_type": "code",
   "execution_count": 6,
   "metadata": {},
   "outputs": [
    {
     "name": "stdout",
     "output_type": "stream",
     "text": [
      "Collecting ipywidgets\n",
      "  Downloading ipywidgets-8.1.5-py3-none-any.whl.metadata (2.3 kB)\n",
      "Requirement already satisfied: comm>=0.1.3 in /Users/supprethaashankar/Documents/Lakehead/Project/MS_Project_Fall24/venv/lib/python3.12/site-packages (from ipywidgets) (0.2.2)\n",
      "Requirement already satisfied: ipython>=6.1.0 in /Users/supprethaashankar/Documents/Lakehead/Project/MS_Project_Fall24/venv/lib/python3.12/site-packages (from ipywidgets) (8.32.0)\n",
      "Requirement already satisfied: traitlets>=4.3.1 in /Users/supprethaashankar/Documents/Lakehead/Project/MS_Project_Fall24/venv/lib/python3.12/site-packages (from ipywidgets) (5.14.3)\n",
      "Collecting widgetsnbextension~=4.0.12 (from ipywidgets)\n",
      "  Downloading widgetsnbextension-4.0.13-py3-none-any.whl.metadata (1.6 kB)\n",
      "Collecting jupyterlab-widgets~=3.0.12 (from ipywidgets)\n",
      "  Downloading jupyterlab_widgets-3.0.13-py3-none-any.whl.metadata (4.1 kB)\n",
      "Requirement already satisfied: decorator in /Users/supprethaashankar/Documents/Lakehead/Project/MS_Project_Fall24/venv/lib/python3.12/site-packages (from ipython>=6.1.0->ipywidgets) (5.1.1)\n",
      "Requirement already satisfied: jedi>=0.16 in /Users/supprethaashankar/Documents/Lakehead/Project/MS_Project_Fall24/venv/lib/python3.12/site-packages (from ipython>=6.1.0->ipywidgets) (0.19.2)\n",
      "Requirement already satisfied: matplotlib-inline in /Users/supprethaashankar/Documents/Lakehead/Project/MS_Project_Fall24/venv/lib/python3.12/site-packages (from ipython>=6.1.0->ipywidgets) (0.1.7)\n",
      "Requirement already satisfied: pexpect>4.3 in /Users/supprethaashankar/Documents/Lakehead/Project/MS_Project_Fall24/venv/lib/python3.12/site-packages (from ipython>=6.1.0->ipywidgets) (4.9.0)\n",
      "Requirement already satisfied: prompt_toolkit<3.1.0,>=3.0.41 in /Users/supprethaashankar/Documents/Lakehead/Project/MS_Project_Fall24/venv/lib/python3.12/site-packages (from ipython>=6.1.0->ipywidgets) (3.0.50)\n",
      "Requirement already satisfied: pygments>=2.4.0 in /Users/supprethaashankar/Documents/Lakehead/Project/MS_Project_Fall24/venv/lib/python3.12/site-packages (from ipython>=6.1.0->ipywidgets) (2.19.1)\n",
      "Requirement already satisfied: stack_data in /Users/supprethaashankar/Documents/Lakehead/Project/MS_Project_Fall24/venv/lib/python3.12/site-packages (from ipython>=6.1.0->ipywidgets) (0.6.3)\n",
      "Requirement already satisfied: parso<0.9.0,>=0.8.4 in /Users/supprethaashankar/Documents/Lakehead/Project/MS_Project_Fall24/venv/lib/python3.12/site-packages (from jedi>=0.16->ipython>=6.1.0->ipywidgets) (0.8.4)\n",
      "Requirement already satisfied: ptyprocess>=0.5 in /Users/supprethaashankar/Documents/Lakehead/Project/MS_Project_Fall24/venv/lib/python3.12/site-packages (from pexpect>4.3->ipython>=6.1.0->ipywidgets) (0.7.0)\n",
      "Requirement already satisfied: wcwidth in /Users/supprethaashankar/Documents/Lakehead/Project/MS_Project_Fall24/venv/lib/python3.12/site-packages (from prompt_toolkit<3.1.0,>=3.0.41->ipython>=6.1.0->ipywidgets) (0.2.13)\n",
      "Requirement already satisfied: executing>=1.2.0 in /Users/supprethaashankar/Documents/Lakehead/Project/MS_Project_Fall24/venv/lib/python3.12/site-packages (from stack_data->ipython>=6.1.0->ipywidgets) (2.2.0)\n",
      "Requirement already satisfied: asttokens>=2.1.0 in /Users/supprethaashankar/Documents/Lakehead/Project/MS_Project_Fall24/venv/lib/python3.12/site-packages (from stack_data->ipython>=6.1.0->ipywidgets) (3.0.0)\n",
      "Requirement already satisfied: pure-eval in /Users/supprethaashankar/Documents/Lakehead/Project/MS_Project_Fall24/venv/lib/python3.12/site-packages (from stack_data->ipython>=6.1.0->ipywidgets) (0.2.3)\n",
      "Downloading ipywidgets-8.1.5-py3-none-any.whl (139 kB)\n",
      "Downloading jupyterlab_widgets-3.0.13-py3-none-any.whl (214 kB)\n",
      "Downloading widgetsnbextension-4.0.13-py3-none-any.whl (2.3 MB)\n",
      "\u001b[2K   \u001b[90m━━━━━━━━━━━━━━━━━━━━━━━━━━━━━━━━━━━━━━━━\u001b[0m \u001b[32m2.3/2.3 MB\u001b[0m \u001b[31m30.2 MB/s\u001b[0m eta \u001b[36m0:00:00\u001b[0m\n",
      "\u001b[?25hInstalling collected packages: widgetsnbextension, jupyterlab-widgets, ipywidgets\n",
      "Successfully installed ipywidgets-8.1.5 jupyterlab-widgets-3.0.13 widgetsnbextension-4.0.13\n",
      "\n",
      "\u001b[1m[\u001b[0m\u001b[34;49mnotice\u001b[0m\u001b[1;39;49m]\u001b[0m\u001b[39;49m A new release of pip is available: \u001b[0m\u001b[31;49m24.2\u001b[0m\u001b[39;49m -> \u001b[0m\u001b[32;49m25.0\u001b[0m\n",
      "\u001b[1m[\u001b[0m\u001b[34;49mnotice\u001b[0m\u001b[1;39;49m]\u001b[0m\u001b[39;49m To update, run: \u001b[0m\u001b[32;49mpip install --upgrade pip\u001b[0m\n",
      "Note: you may need to restart the kernel to use updated packages.\n"
     ]
    }
   ],
   "source": [
    "%pip install ipywidgets"
   ]
  },
  {
   "cell_type": "code",
   "execution_count": 8,
   "metadata": {},
   "outputs": [
    {
     "data": {
      "application/vnd.jupyter.widget-view+json": {
       "model_id": "e7f644144e994fc1a2a8a641cc86a541",
       "version_major": 2,
       "version_minor": 0
      },
      "text/plain": [
       "Textarea(value='', description='Question:', layout=Layout(height='200px', width='90%'), placeholder='Enter you…"
      ]
     },
     "metadata": {},
     "output_type": "display_data"
    },
    {
     "data": {
      "application/vnd.jupyter.widget-view+json": {
       "model_id": "c547ae4aac774d738b1d251b80697750",
       "version_major": 2,
       "version_minor": 0
      },
      "text/plain": [
       "Textarea(value='', description='Options:', layout=Layout(height='150px', width='90%'), placeholder='\"options\":…"
      ]
     },
     "metadata": {},
     "output_type": "display_data"
    },
    {
     "data": {
      "application/vnd.jupyter.widget-view+json": {
       "model_id": "196019c016984fa99ab4c9ddf734772b",
       "version_major": 2,
       "version_minor": 0
      },
      "text/plain": [
       "Button(description='Analyze', style=ButtonStyle())"
      ]
     },
     "metadata": {},
     "output_type": "display_data"
    },
    {
     "data": {
      "application/vnd.jupyter.widget-view+json": {
       "model_id": "bc6257c4a69b410fb42397d0b175f17c",
       "version_major": 2,
       "version_minor": 0
      },
      "text/plain": [
       "Output()"
      ]
     },
     "metadata": {},
     "output_type": "display_data"
    }
   ],
   "source": [
    "from ipywidgets import widgets\n",
    "from IPython.display import display\n",
    "\n",
    "# Create text areas for input\n",
    "question_widget = widgets.Textarea(\n",
    "    value='',\n",
    "    placeholder='Enter your USMLE question here...',\n",
    "    description='Question:',\n",
    "    disabled=False,\n",
    "    layout={'width': '90%', 'height': '200px'}\n",
    ")\n",
    "\n",
    "options_widget = widgets.Textarea(\n",
    "    value='',\n",
    "    placeholder='''\"options\": {\n",
    "\"A\": \"Option A\",\n",
    "\"B\": \"Option B\",\n",
    "\"C\": \"Option C\",\n",
    "\"D\": \"Option D\"}''',\n",
    "    description='Options:',\n",
    "    disabled=False,\n",
    "    layout={'width': '90%', 'height': '150px'}\n",
    ")\n",
    "\n",
    "# Create button for submission\n",
    "button = widgets.Button(description=\"Analyze\")\n",
    "output = widgets.Output()\n",
    "\n",
    "def on_button_clicked(b):\n",
    "    with output:\n",
    "        output.clear_output()\n",
    "        complete_query = f\"{question_widget.value}\\n\\n{options_widget.value}\"\n",
    "        result = analyze_medical_question(complete_query)\n",
    "        print(\"\\nQuestion Breakdown:\")\n",
    "        print(result)\n",
    "\n",
    "button.on_click(on_button_clicked)\n",
    "\n",
    "# Display widgets\n",
    "display(question_widget)\n",
    "display(options_widget)\n",
    "display(button)\n",
    "display(output)"
   ]
  },
  {
   "cell_type": "code",
   "execution_count": null,
   "metadata": {},
   "outputs": [],
   "source": []
  },
  {
   "cell_type": "code",
   "execution_count": 10,
   "metadata": {},
   "outputs": [
    {
     "name": "stdout",
     "output_type": "stream",
     "text": [
      "\n",
      "Question Breakdown:\n",
      "Patient - Age: 67 years old, Sex: Female, Condition: Type 2 diabetes and hypertension\n",
      "\n",
      "Investigation - Blood pressure: 145/95 mmHg, HbA1c: 8.5%\n",
      "\n",
      "Comparison - Answer Options: \n",
      "A) Amlodipine\n",
      "B) Metformin\n",
      "C) Lisinopril\n",
      "D) Hydrochlorothiazide\n",
      "\n",
      "Outcome expected - The most appropriate medication to initiate for both conditions.\n",
      "\n",
      "Symptoms - Not mentioned in the question.\n",
      "\n",
      "Any other additional information - The patient is presenting for a routine follow-up.\n"
     ]
    }
   ],
   "source": [
    "def main():\n",
    "    # Static USMLE question\n",
    "    user_query = \"\"\"A 67-year-old woman with a history of type 2 diabetes and hypertension presents for routine follow-up. Her blood pressure is 145/95 mmHg, and her HbA1c is 8.5%. Which of the following medications would be the most appropriate to initiate for both conditions?\n",
    "\tA) Amlodipine\n",
    "\tB) Metformin\n",
    "\tC) Lisinopril\n",
    "\tD) Hydrochlorothiazide\"\"\"\n",
    "    \n",
    "    result = analyze_medical_question(user_query)\n",
    "    print(\"\\nQuestion Breakdown:\")\n",
    "    print(result)\n",
    "\n",
    "if __name__ == \"__main__\":\n",
    "    main()"
   ]
  },
  {
   "cell_type": "code",
   "execution_count": 5,
   "metadata": {},
   "outputs": [
    {
     "name": "stdout",
     "output_type": "stream",
     "text": [
      "\n",
      "Please enter your USMLE question:\n",
      "(Press Enter twice to finish input)\n"
     ]
    }
   ],
   "source": [
    "\n",
    "\n",
    "\n",
    "\n",
    "\n",
    "def get_multiline_input(prompt):\n",
    "    print(prompt)\n",
    "    print(\"(Press Enter twice to finish input)\")\n",
    "    lines = []\n",
    "    while True:\n",
    "        line = input()\n",
    "        if line == \"\":\n",
    "            break\n",
    "        lines.append(line)\n",
    "    return \"\\n\".join(lines)\n",
    "\n",
    "def main():\n",
    "    # Get question\n",
    "    user_query = input(\"\\nPlease enter your USMLE question:\")\n",
    "    \n",
    "    # Get options\n",
    "    print(\"\\nPlease enter the options in the format:\")\n",
    "    print(\"\"\"Example:\n",
    "\"options\": {\n",
    "\"A\": \"Option A\", \n",
    "\"B\": \"Option B\", \n",
    "\"C\": \"Option C\", \n",
    "\"D\": \"Option D\"}\"\"\")\n",
    "    options = get_multiline_input(\"\")\n",
    "    \n",
    "    # Combine question and options\n",
    "    complete_query = f\"{user_query}\\n\\n{options}\"\n",
    "    \n",
    "    result = analyze_medical_question(complete_query)\n",
    "    print(\"\\nQuestion Breakdown:\")\n",
    "    print(result)\n",
    "\n",
    "if __name__ == \"__main__\":\n",
    "    main()"
   ]
  },
  {
   "cell_type": "code",
   "execution_count": 1,
   "metadata": {},
   "outputs": [
    {
     "name": "stdout",
     "output_type": "stream",
     "text": [
      "\n",
      "Please enter your USMLE question:\n"
     ]
    }
   ],
   "source": [
    "\n",
    "\n",
    "def main():\n",
    "    # Get question\n",
    "    print(\"\\nPlease enter your USMLE question:\")\n",
    "    user_query = input()\n",
    "    \n",
    "    # Get options\n",
    "    print(\"\\nPlease enter the options in the format:\")\n",
    "    print(\"\"\"Example:\n",
    "\"options\": {\n",
    "\"A\": \"Option A\", \n",
    "\"B\": \"Option B\", \n",
    "\"C\": \"Option C\", \n",
    "\"D\": \"Option D\"}\"\"\")\n",
    "    options = input()\n",
    "    \n",
    "    # Combine question and options\n",
    "    complete_query = f\"{user_query}\\n\\n{options}\"\n",
    "    \n",
    "    result = analyze_medical_question(complete_query)\n",
    "    print(\"\\nQuestion Breakdown:\")\n",
    "    print(result)\n",
    "\n",
    "if __name__ == \"__main__\":\n",
    "    main()"
   ]
  }
 ],
 "metadata": {
  "kernelspec": {
   "display_name": "venv",
   "language": "python",
   "name": "python3"
  },
  "language_info": {
   "codemirror_mode": {
    "name": "ipython",
    "version": 3
   },
   "file_extension": ".py",
   "mimetype": "text/x-python",
   "name": "python",
   "nbconvert_exporter": "python",
   "pygments_lexer": "ipython3",
   "version": "3.12.7"
  }
 },
 "nbformat": 4,
 "nbformat_minor": 2
}
